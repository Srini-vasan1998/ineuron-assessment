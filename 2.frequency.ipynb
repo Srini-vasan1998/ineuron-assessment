{
 "cells": [
  {
   "cell_type": "code",
   "execution_count": 1,
   "id": "b72c33cf",
   "metadata": {},
   "outputs": [
    {
     "name": "stdout",
     "output_type": "stream",
     "text": [
      "highest frequency is : 5\n"
     ]
    }
   ],
   "source": [
    "def frequency(input_string):\n",
    "    words = input_string.split()\n",
    "    word_frequency = {}\n",
    "\n",
    "    for word in words:\n",
    "        word = word.strip('.,?!()[]{};:\"\\'').lower()\n",
    "        if word not in word_frequency:\n",
    "            word_frequency[word] = 1\n",
    "        else:\n",
    "            word_frequency[word] += 1\n",
    "\n",
    "    if not word_frequency:\n",
    "        return 0  \n",
    "\n",
    "    max_frequency = max(word_frequency.values())\n",
    "    most_frequent_words = [word for word, frequency in word_frequency.items() if frequency == max_frequency]\n",
    "\n",
    "    if not most_frequent_words:\n",
    "        return 0 \n",
    "    return len(most_frequent_words[0])\n",
    "input_string_1 = \"write write write all the number from from from 1 to 100\"\n",
    "output_1 = frequency(input_string_1)\n",
    "print(\"highest frequency is :\", output_1)"
   ]
  },
  {
   "cell_type": "code",
   "execution_count": null,
   "id": "de3ddf02",
   "metadata": {},
   "outputs": [],
   "source": []
  }
 ],
 "metadata": {
  "kernelspec": {
   "display_name": "Python 3 (ipykernel)",
   "language": "python",
   "name": "python3"
  },
  "language_info": {
   "codemirror_mode": {
    "name": "ipython",
    "version": 3
   },
   "file_extension": ".py",
   "mimetype": "text/x-python",
   "name": "python",
   "nbconvert_exporter": "python",
   "pygments_lexer": "ipython3",
   "version": "3.11.4"
  }
 },
 "nbformat": 4,
 "nbformat_minor": 5
}
